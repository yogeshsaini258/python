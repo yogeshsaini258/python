{
 "cells": [
  {
   "cell_type": "code",
   "execution_count": 2,
   "metadata": {},
   "outputs": [
    {
     "name": "stdout",
     "output_type": "stream",
     "text": [
      "highest is 10\n"
     ]
    }
   ],
   "source": [
    "#question 1\n",
    "\n",
    "total=int(input(\"total values?\"))\n",
    "count=0\n",
    "max=None\n",
    "\n",
    "while count<total:\n",
    "    count+=1\n",
    "    value=int(input(f\"number#{count}? \"))\n",
    "    if max==None or value>max:\n",
    "        max=value\n",
    "\n",
    "print(f'highest is {max}')"
   ]
  },
  {
   "cell_type": "code",
   "execution_count": null,
   "metadata": {},
   "outputs": [],
   "source": [
    "\n",
    "\n"
   ]
  }
 ],
 "metadata": {
  "kernelspec": {
   "display_name": "Python 3",
   "language": "python",
   "name": "python3"
  },
  "language_info": {
   "codemirror_mode": {
    "name": "ipython",
    "version": 3
   },
   "file_extension": ".py",
   "mimetype": "text/x-python",
   "name": "python",
   "nbconvert_exporter": "python",
   "pygments_lexer": "ipython3",
   "version": "3.11.5"
  },
  "orig_nbformat": 4
 },
 "nbformat": 4,
 "nbformat_minor": 2
}
