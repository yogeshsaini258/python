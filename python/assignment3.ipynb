{
 "cells": [
  {
   "cell_type": "code",
   "execution_count": 1,
   "metadata": {},
   "outputs": [
    {
     "name": "stdout",
     "output_type": "stream",
     "text": [
      "5\n",
      "7\n"
     ]
    }
   ],
   "source": [
    "#solution\n",
    "x = int(input(\"Enter the lower limit number\"))\n",
    "\n",
    "y = int(input(\"Enter the upper limit number\"))\n",
    "\n",
    " \n",
    "\n",
    "for i in range(x, y+1):\n",
    "\n",
    "    if i>1:\n",
    "\n",
    "        for j in range(2, i):\n",
    "\n",
    "            if (i%j) == 0:\n",
    "\n",
    "                break\n",
    "\n",
    "        else:\n",
    "\n",
    "            print(i)\n",
    "\n",
    " "
   ]
  },
  {
   "cell_type": "code",
   "execution_count": null,
   "metadata": {},
   "outputs": [],
   "source": []
  }
 ],
 "metadata": {
  "kernelspec": {
   "display_name": "Python 3",
   "language": "python",
   "name": "python3"
  },
  "language_info": {
   "codemirror_mode": {
    "name": "ipython",
    "version": 3
   },
   "file_extension": ".py",
   "mimetype": "text/x-python",
   "name": "python",
   "nbconvert_exporter": "python",
   "pygments_lexer": "ipython3",
   "version": "3.11.5"
  },
  "orig_nbformat": 4
 },
 "nbformat": 4,
 "nbformat_minor": 2
}
