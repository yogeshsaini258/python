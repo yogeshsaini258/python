{
 "cells": [
  {
   "cell_type": "code",
   "execution_count": 1,
   "metadata": {},
   "outputs": [
    {
     "name": "stdout",
     "output_type": "stream",
     "text": [
      "The day of the week for 1999-12-08 is Wednesday.\n"
     ]
    }
   ],
   "source": [
    "#solution 1\n",
    "def find_day_of_week(year, month, day):\n",
    "    if month < 3:\n",
    "        month += 12\n",
    "        year -= 1\n",
    "\n",
    " \n",
    "\n",
    "    k = year % 100\n",
    "    j = year // 100\n",
    "\n",
    " \n",
    "\n",
    "    day_of_week = (day + (13 * (month + 1) // 5) + k + (k // 4) + (j // 4) - (2 * j)) % 7\n",
    "\n",
    " \n",
    "\n",
    "    days = [\"Saturday\", \"Sunday\", \"Monday\", \"Tuesday\", \"Wednesday\", \"Thursday\", \"Friday\"]\n",
    "\n",
    "    return days[day_of_week]\n",
    "\n",
    " \n",
    "\n",
    "# Input date (yyyy, mm, dd)\n",
    "year = int(input(\"Enter year (yyyy): \"))\n",
    "month = int(input(\"Enter month (mm): \"))\n",
    "day = int(input(\"Enter day (dd): \"))\n",
    "\n",
    " \n",
    "\n",
    "day_of_week = find_day_of_week(year, month, day)\n",
    "print(f\"The day of the week for {year}-{month:02d}-{day:02d} is {day_of_week}.\")"
   ]
  },
  {
   "cell_type": "code",
   "execution_count": 2,
   "metadata": {},
   "outputs": [],
   "source": [
    "#solution 2\n",
    "\n",
    "def sum_values(*args):\n",
    "    total = 0\n",
    "    for value in args:\n",
    "        total+= value\n",
    "    return total"
   ]
  },
  {
   "cell_type": "code",
   "execution_count": 3,
   "metadata": {},
   "outputs": [],
   "source": [
    "#solution 3\n",
    "\n",
    "def average(*args):\n",
    "    return sum(args)/ len(args)\n"
   ]
  },
  {
   "cell_type": "code",
   "execution_count": null,
   "metadata": {},
   "outputs": [],
   "source": []
  }
 ],
 "metadata": {
  "kernelspec": {
   "display_name": "Python 3",
   "language": "python",
   "name": "python3"
  },
  "language_info": {
   "codemirror_mode": {
    "name": "ipython",
    "version": 3
   },
   "file_extension": ".py",
   "mimetype": "text/x-python",
   "name": "python",
   "nbconvert_exporter": "python",
   "pygments_lexer": "ipython3",
   "version": "3.11.5"
  },
  "orig_nbformat": 4
 },
 "nbformat": 4,
 "nbformat_minor": 2
}
