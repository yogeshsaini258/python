{
 "cells": [
  {
   "cell_type": "code",
   "execution_count": null,
   "metadata": {},
   "outputs": [],
   "source": [
    "#solution"
   ]
  },
  {
   "cell_type": "code",
   "execution_count": 3,
   "metadata": {},
   "outputs": [
    {
     "name": "stdout",
     "output_type": "stream",
     "text": [
      "9\n"
     ]
    }
   ],
   "source": [
    "total_inputs = int(input(\"Enter the no of inputs \\n\"))\n",
    "\n",
    "x=int(input(\"Enter a number \\t\"))\n",
    "\n",
    "y=int(input(\"Enter a number \\t\"))\n",
    "\n",
    "if y>x:\n",
    "\n",
    "    temp=x\n",
    "\n",
    "    x=y\n",
    "\n",
    "    y=temp\n",
    "\n",
    "   \n",
    "\n",
    "for a in range(total_inputs-2):\n",
    "\n",
    "    m=int(input(\"Enter a number \\t\"))\n",
    "\n",
    "    if m>x and m>y and y<x:\n",
    "\n",
    "        y=m\n",
    "\n",
    "        temp=x\n",
    "\n",
    "        x=y\n",
    "\n",
    "        y=temp\n",
    "\n",
    "    elif m>y:\n",
    "\n",
    "        y=m\n",
    "\n",
    "    else:\n",
    "\n",
    "        continue\n",
    "\n",
    "print(y)"
   ]
  },
  {
   "cell_type": "code",
   "execution_count": null,
   "metadata": {},
   "outputs": [],
   "source": []
  }
 ],
 "metadata": {
  "kernelspec": {
   "display_name": "Python 3",
   "language": "python",
   "name": "python3"
  },
  "language_info": {
   "codemirror_mode": {
    "name": "ipython",
    "version": 3
   },
   "file_extension": ".py",
   "mimetype": "text/x-python",
   "name": "python",
   "nbconvert_exporter": "python",
   "pygments_lexer": "ipython3",
   "version": "3.11.5"
  },
  "orig_nbformat": 4
 },
 "nbformat": 4,
 "nbformat_minor": 2
}
