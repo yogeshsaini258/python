{
 "cells": [
  {
   "cell_type": "code",
   "execution_count": 27,
   "metadata": {},
   "outputs": [],
   "source": [
    "#PART 1\n"
   ]
  },
  {
   "cell_type": "code",
   "execution_count": 28,
   "metadata": {},
   "outputs": [
    {
     "ename": "AttributeError",
     "evalue": "'LinkedList' object has no attribute 'head'",
     "output_type": "error",
     "traceback": [
      "\u001b[1;31m---------------------------------------------------------------------------\u001b[0m",
      "\u001b[1;31mAttributeError\u001b[0m                            Traceback (most recent call last)",
      "\u001b[1;32mc:\\Users\\sainiyo\\OneDrive - Ecolab\\Desktop\\python\\assignment8.ipynb Cell 2\u001b[0m line \u001b[0;36m4\n\u001b[0;32m     <a href='vscode-notebook-cell:/c%3A/Users/sainiyo/OneDrive%20-%20Ecolab/Desktop/python/assignment8.ipynb#W2sZmlsZQ%3D%3D?line=42'>43</a>\u001b[0m         \u001b[39mreturn\u001b[39;00m prime_numbers\n\u001b[0;32m     <a href='vscode-notebook-cell:/c%3A/Users/sainiyo/OneDrive%20-%20Ecolab/Desktop/python/assignment8.ipynb#W2sZmlsZQ%3D%3D?line=44'>45</a>\u001b[0m linkedlist \u001b[39m=\u001b[39m LinkedList()\n\u001b[1;32m---> <a href='vscode-notebook-cell:/c%3A/Users/sainiyo/OneDrive%20-%20Ecolab/Desktop/python/assignment8.ipynb#W2sZmlsZQ%3D%3D?line=46'>47</a>\u001b[0m linkedlist\u001b[39m.\u001b[39;49mappend(\u001b[39m10\u001b[39;49m)\n\u001b[0;32m     <a href='vscode-notebook-cell:/c%3A/Users/sainiyo/OneDrive%20-%20Ecolab/Desktop/python/assignment8.ipynb#W2sZmlsZQ%3D%3D?line=47'>48</a>\u001b[0m linkedlist\u001b[39m.\u001b[39mappend(\u001b[39m23\u001b[39m)\n\u001b[0;32m     <a href='vscode-notebook-cell:/c%3A/Users/sainiyo/OneDrive%20-%20Ecolab/Desktop/python/assignment8.ipynb#W2sZmlsZQ%3D%3D?line=48'>49</a>\u001b[0m linkedlist\u001b[39m.\u001b[39mappend(\u001b[39m7\u001b[39m)\n",
      "\u001b[1;32mc:\\Users\\sainiyo\\OneDrive - Ecolab\\Desktop\\python\\assignment8.ipynb Cell 2\u001b[0m line \u001b[0;36m1\n\u001b[0;32m     <a href='vscode-notebook-cell:/c%3A/Users/sainiyo/OneDrive%20-%20Ecolab/Desktop/python/assignment8.ipynb#W2sZmlsZQ%3D%3D?line=16'>17</a>\u001b[0m \u001b[39mdef\u001b[39;00m \u001b[39mappend\u001b[39m(\u001b[39mself\u001b[39m, data):\n\u001b[0;32m     <a href='vscode-notebook-cell:/c%3A/Users/sainiyo/OneDrive%20-%20Ecolab/Desktop/python/assignment8.ipynb#W2sZmlsZQ%3D%3D?line=17'>18</a>\u001b[0m     new_node \u001b[39m=\u001b[39m Node(data)\n\u001b[1;32m---> <a href='vscode-notebook-cell:/c%3A/Users/sainiyo/OneDrive%20-%20Ecolab/Desktop/python/assignment8.ipynb#W2sZmlsZQ%3D%3D?line=18'>19</a>\u001b[0m     \u001b[39mif\u001b[39;00m \u001b[39mnot\u001b[39;00m \u001b[39mself\u001b[39;49m\u001b[39m.\u001b[39;49mhead:\n\u001b[0;32m     <a href='vscode-notebook-cell:/c%3A/Users/sainiyo/OneDrive%20-%20Ecolab/Desktop/python/assignment8.ipynb#W2sZmlsZQ%3D%3D?line=19'>20</a>\u001b[0m         \u001b[39mself\u001b[39m\u001b[39m.\u001b[39mhead \u001b[39m=\u001b[39m new_node\n\u001b[0;32m     <a href='vscode-notebook-cell:/c%3A/Users/sainiyo/OneDrive%20-%20Ecolab/Desktop/python/assignment8.ipynb#W2sZmlsZQ%3D%3D?line=20'>21</a>\u001b[0m     \u001b[39melse\u001b[39;00m:\n",
      "\u001b[1;31mAttributeError\u001b[0m: 'LinkedList' object has no attribute 'head'"
     ]
    }
   ],
   "source": [
    "class Node:\n",
    "    def __init__(self,data):\n",
    "        self._data=data\n",
    "        self._next=None\n",
    "\n",
    "class LinkedList:\n",
    "    def _init_(self):\n",
    "        self.head = None\n",
    "\n",
    "    def append(self, data):\n",
    "        new_node = Node(data)\n",
    "\n",
    "class LinkedList:\n",
    "    def _init_(self):\n",
    "        self.head = None\n",
    "\n",
    "    def append(self, data):\n",
    "        new_node = Node(data)\n",
    "        if not self.head:\n",
    "            self.head = new_node\n",
    "        else:\n",
    "            current = self.head\n",
    "            while current.next:\n",
    "                current = current.next\n",
    "            current.next = new_node\n",
    "\n",
    "    def find_primes(self):\n",
    "        def is_prime(num):\n",
    "            if num < 2:\n",
    "                return False\n",
    "            for i in range(2, int(num**0.5) + 1):\n",
    "                if num % i == 0:\n",
    "                    return False\n",
    "            return True\n",
    "\n",
    "        prime_numbers = []\n",
    "        current = self.head\n",
    "        while current:\n",
    "            if isinstance(current.data, int) and is_prime(current.data):\n",
    "                prime_numbers.append(current.data)\n",
    "            current = current.next\n",
    "\n",
    "        return prime_numbers\n",
    "\n",
    "linkedlist = LinkedList()\n",
    "\n",
    "linkedlist.append(10)\n",
    "linkedlist.append(23)\n",
    "linkedlist.append(7)\n",
    "linkedlist.append(15)\n",
    "\n",
    "prime_numbers = linkedlist.find_primes()\n",
    "print(\"Prime numbers in the linked list:\", prime_numbers)\n",
    "\n",
    "\n",
    "#PART2\n",
    "\n",
    "\n",
    "def find_evens(self):\n",
    "    even_numbers = []\n",
    "    current = self.head\n",
    "    while current:\n",
    "        if isinstance(current.data,int) and current.data % 2 == 0:\n",
    "            even_numbers.append(current.data)\n",
    "        current = current.next\n",
    "\n",
    "    return even_numbers\n",
    "\n",
    "\n",
    "\n",
    "#PART3\n",
    "\n",
    "class Book:\n",
    "    def _init_(self, book_id, title, author, price, rating):\n",
    "        self.book_id = book_id\n",
    "        self.title = title\n",
    "        self.author = author\n",
    "        self.price = price\n",
    "        self.rating = rating\n",
    "\n",
    "    def find_by_id(self, book_id):\n",
    "        result = []\n",
    "        current = self.head\n",
    "        while current:\n",
    "            if isinstance(current.data, Book) and current.data.book_id == book_id:\n",
    "                result.append(current.data)\n",
    "            current = current.next\n",
    "        return result\n",
    "    \n",
    "    def find_by_author(self, author):\n",
    "        result = []\n",
    "        current = self.head\n",
    "        while current:\n",
    "            if isinstance(current.data, Book) and current.data.author == author:\n",
    "                result.append(current.data)\n",
    "            current = current.next\n",
    "        return result\n",
    "\n",
    "    def find_in_rating_range(self, min_rating, max_rating):\n",
    "        result = []\n",
    "        current = self.head\n",
    "        while current:\n",
    "            if isinstance(current.data, Book) and min_rating <= current.data.rating <= max_rating:\n",
    "                result.append(current.data)\n",
    "            current = current.next\n",
    "        return result\n",
    "\n",
    "    def find_in_price_range(self, min_price, max_price):\n",
    "        result = []\n",
    "        current = self.head\n",
    "        while current:\n",
    "            if isinstance(current.data, Book) and min_price <= current.data.price <= max_price:\n",
    "                result.append(current.data)\n",
    "            current = current.next\n",
    "        return result\n",
    "    \n",
    "\n",
    "\n",
    "linkedlist = LinkedList()\n",
    "\n",
    "linkedlist.append(Book(1, \"TheAccursedGodPart1\", \"Vivek\", 300, 4.5))\n",
    "linkedlist.append(Book(2, \"TheAccursedGodPart2\", \"VivekDutta\", 450, 3.8))\n",
    "linkedlist.append(Book(3, \"Manas\", \"VivekDuttaMishra\", 200, 4.2))\n",
    "\n",
    "\n",
    "book_by_id = linkedlist.find_by_id(2)\n",
    "if book_by_id:\n",
    "    print(\"Book found by id:\", book_by_id[0].title)\n",
    "else:\n",
    "    print(\"Book not found by id\")\n",
    "\n",
    "books_by_author = linkedlist.find_by_author(\"Vivek\")\n",
    "print(\"Books by Vivek:\")\n",
    "for book in books_by_author:\n",
    "    print(book.title)\n",
    "\n",
    "books_in_rating_range = linkedlist.find_in_rating_range(4.0, 4.5)\n",
    "print(\"Books in the rating range [4.0, 4.5]:\")\n",
    "for book in books_in_rating_range:\n",
    "    print(book.title)\n",
    "\n",
    "books_in_price_range = linkedlist.find_in_price_range(200, 450)\n",
    "print(\"Books in the price range [200, 450]:\")\n",
    "for book in books_in_price_range:\n",
    "    print(book.title)\n",
    "\n",
    "\n"
   ]
  },
  {
   "cell_type": "code",
   "execution_count": null,
   "metadata": {},
   "outputs": [
    {
     "data": {
      "text/plain": [
       "<__main__.Node at 0x1254c5904d0>"
      ]
     },
     "execution_count": 12,
     "metadata": {},
     "output_type": "execute_result"
    }
   ],
   "source": []
  },
  {
   "cell_type": "code",
   "execution_count": null,
   "metadata": {},
   "outputs": [],
   "source": [
    "\n",
    "\n"
   ]
  },
  {
   "cell_type": "code",
   "execution_count": null,
   "metadata": {},
   "outputs": [
    {
     "data": {
      "text/plain": [
       "type"
      ]
     },
     "execution_count": 9,
     "metadata": {},
     "output_type": "execute_result"
    }
   ],
   "source": []
  },
  {
   "cell_type": "code",
   "execution_count": null,
   "metadata": {},
   "outputs": [],
   "source": []
  },
  {
   "cell_type": "code",
   "execution_count": null,
   "metadata": {},
   "outputs": [],
   "source": []
  }
 ],
 "metadata": {
  "kernelspec": {
   "display_name": "Python 3",
   "language": "python",
   "name": "python3"
  },
  "language_info": {
   "codemirror_mode": {
    "name": "ipython",
    "version": 3
   },
   "file_extension": ".py",
   "mimetype": "text/x-python",
   "name": "python",
   "nbconvert_exporter": "python",
   "pygments_lexer": "ipython3",
   "version": "3.11.5"
  },
  "orig_nbformat": 4
 },
 "nbformat": 4,
 "nbformat_minor": 2
}
