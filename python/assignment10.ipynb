{
 "cells": [
  {
   "cell_type": "code",
   "execution_count": 2,
   "metadata": {},
   "outputs": [
    {
     "name": "stdout",
     "output_type": "stream",
     "text": [
      "Use Case 1:\n",
      "2 3 "
     ]
    }
   ],
   "source": [
    "class PrimeRange:\n",
    "    def __init__(self, start, stop=None):\n",
    "        if stop is None:\n",
    "            start, stop = 2, start\n",
    "        self.start = start\n",
    "        self.stop = stop\n",
    "\n",
    "    def is_prime(self, num):\n",
    "        if num < 2:\n",
    "            return False\n",
    "        for i in range(2, int(num**0.5) + 1):\n",
    "            if num % i == 0:\n",
    "                return False\n",
    "        return True\n",
    "\n",
    "    def __iter__(self):\n",
    "        self.current = self.start\n",
    "        return self\n",
    "\n",
    "    def __next__(self):\n",
    "        while self.current < self.stop:\n",
    "            if self.is_prime(self.current):\n",
    "                prime = self.current\n",
    "                self.current += 1\n",
    "                return prime\n",
    "        raise StopIteration\n",
    "\n",
    "# Use Case 1\n",
    "print(\"Use Case 1:\")\n",
    "for p in PrimeRange(10):\n",
    "    print(p, end=' ')  #2 3 5 7\n",
    "print()\n",
    "\n",
    "# Use Case 2\n",
    "print(\"Use Case 2:\")\n",
    "primes = PrimeRange(10, 20)\n",
    "it = iter(primes)\n",
    "\n",
    "print(next(it))  #11\n",
    "print(next(it))  #13\n",
    "print(next(it))  #17\n",
    "print(next(it))  #19\n",
    "try:\n",
    "    print(next(it))\n",
    "except StopIteration:\n",
    "    print(\"StopIteration raised\")"
   ]
  },
  {
   "cell_type": "code",
   "execution_count": null,
   "metadata": {},
   "outputs": [],
   "source": []
  }
 ],
 "metadata": {
  "kernelspec": {
   "display_name": "Python 3",
   "language": "python",
   "name": "python3"
  },
  "language_info": {
   "codemirror_mode": {
    "name": "ipython",
    "version": 3
   },
   "file_extension": ".py",
   "mimetype": "text/x-python",
   "name": "python",
   "nbconvert_exporter": "python",
   "pygments_lexer": "ipython3",
   "version": "3.11.5"
  },
  "orig_nbformat": 4
 },
 "nbformat": 4,
 "nbformat_minor": 2
}
