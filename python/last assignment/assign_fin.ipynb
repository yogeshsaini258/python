{
    "cells": [
        {
            "cell_type": "code",
            "execution_count": null,
            "metadata": {
                "azdata_cell_guid": "3727732c-70ce-4e83-a871-a405c3f5623d",
                "language": "sql"
            },
            "outputs": [
                {
                    "data": {
                        "text/html": [
                            "Commands completed successfully."
                        ]
                    },
                    "metadata": {},
                    "output_type": "display_data"
                },
                {
                    "data": {
                        "text/html": [
                            "Total execution time: 00:00:00.588"
                        ]
                    },
                    "metadata": {},
                    "output_type": "display_data"
                }
            ],
            "source": [
                "CREATE DATABASE assign_fin_db"
            ]
        },
        {
            "cell_type": "code",
            "execution_count": null,
            "metadata": {
                "azdata_cell_guid": "4c321c0a-b123-4052-8554-dc3eee2afd7d",
                "language": "sql"
            },
            "outputs": [
                {
                    "data": {
                        "text/html": [
                            "Commands completed successfully."
                        ]
                    },
                    "metadata": {},
                    "output_type": "display_data"
                },
                {
                    "data": {
                        "text/html": [
                            "Total execution time: 00:00:00.156"
                        ]
                    },
                    "metadata": {},
                    "output_type": "display_data"
                }
            ],
            "source": [
                "USE assign_fin_db"
            ]
        },
        {
            "cell_type": "code",
            "execution_count": null,
            "metadata": {
                "azdata_cell_guid": "600acb1d-da4f-4295-b413-f4ceb8c1b57e",
                "language": "sql"
            },
            "outputs": [
                {
                    "data": {
                        "text/html": [
                            "Commands completed successfully."
                        ]
                    },
                    "metadata": {},
                    "output_type": "display_data"
                },
                {
                    "data": {
                        "text/html": [
                            "Total execution time: 00:00:00.022"
                        ]
                    },
                    "metadata": {},
                    "output_type": "display_data"
                }
            ],
            "source": [
                "CREATE TABLE Books (\n",
                "    bookid VARCHAR(50) PRIMARY KEY,\n",
                "    title VARCHAR(255),\n",
                "    details TEXT,\n",
                "    authorid VARCHAR(10) FOREIGN KEY (authorid) REFERENCES Authors(authorid)\n",
                ");"
            ]
        },
        {
            "cell_type": "code",
            "execution_count": null,
            "metadata": {
                "azdata_cell_guid": "9097db21-cfeb-41ec-8f1b-816a1a6a3f51",
                "language": "sql"
            },
            "outputs": [
                {
                    "data": {
                        "text/html": [
                            "(8 rows affected)"
                        ]
                    },
                    "metadata": {},
                    "output_type": "display_data"
                },
                {
                    "data": {
                        "text/html": [
                            "Total execution time: 00:00:00.005"
                        ]
                    },
                    "metadata": {},
                    "output_type": "display_data"
                }
            ],
            "source": [
                "INSERT  \n",
                "\n",
                "    INTO  \n",
                "\n",
                "        Books(bookid,title,details,authorid)\n",
                "\n",
                "    VALUES \n",
                "\n",
                "        ('kane-and-abel','Kane and Abel','A book by jeffrey archer','j_a'),\n",
                "         \n",
                "        ('rashmirathi','Rashmirathi','A book by Ramdhari sing dinkar','r_s_d'), \n",
                "\n",
                "        ('sons-of-fortune','Sons of Fortune','A book by jeffrey archer','j_a'), \n",
                "\n",
                "        ('manas','Manas','A book by Vivek dutta mishra','v_d_m'), \n",
                "\n",
                "        ('summons','Summons','A book by John Grisham','j_g'), \n",
                "\n",
                "        ('five-point-someone','Five Point SomeOne','A book by Ramdhari sing dinkar','r_s_d'), \n",
                "\n",
                "        ('scion-of-ikshavaku','The Scion of Ikshavaku','A book by Amish','amish'), \n",
                "\n",
                "        ('the-accursed-god','The Accursed God','A book by Vivek dutta mishra','v_d_m'); \n"
            ]
        },
        {
            "cell_type": "code",
            "execution_count": null,
            "metadata": {
                "azdata_cell_guid": "27e0b2e8-67c0-4a28-b88c-c869eac81b50",
                "language": "sql",
                "tags": []
            },
            "outputs": [
                {
                    "data": {
                        "text/html": [
                            "Commands completed successfully."
                        ]
                    },
                    "metadata": {},
                    "output_type": "display_data"
                },
                {
                    "data": {
                        "text/html": [
                            "Total execution time: 00:00:00.005"
                        ]
                    },
                    "metadata": {},
                    "output_type": "display_data"
                }
            ],
            "source": [
                "CREATE TABLE Authors (\n",
                "    authorid VARCHAR(10) PRIMARY KEY ,\n",
                "    name VARCHAR(255),\n",
                "    bio TEXT,\n",
                ");"
            ]
        },
        {
            "cell_type": "code",
            "execution_count": null,
            "metadata": {
                "azdata_cell_guid": "64626148-c2e5-4e00-9998-72ba1bec1cae",
                "language": "sql"
            },
            "outputs": [
                {
                    "data": {
                        "text/html": [
                            "(7 rows affected)"
                        ]
                    },
                    "metadata": {},
                    "output_type": "display_data"
                },
                {
                    "data": {
                        "text/html": [
                            "Total execution time: 00:00:00.006"
                        ]
                    },
                    "metadata": {},
                    "output_type": "display_data"
                }
            ],
            "source": [
                "INSERT into Authors(authorid,name,bio) VALUES('amish','Amish','Wrote the Scion of ikshvaku'),\n",
                "                                             ('c_b','Chetan Bhagat','Wrote many fictional stories'),\n",
                "                                             ('j_a','Jeffrey Archer','Wrote 2 books present in database'),\n",
                "                                             ('jk','JK Rowlings','Wrote 7 parts of Harry Potter'),\n",
                "                                             ('j_g','John Grisham','Wrote 1 book'),\n",
                "                                             ('r_s_d','Ramdhari Singh Dinkar','Wrote 2 books recorded in database'),\n",
                "                                             ('v_d_m','Vivek Dutta Mishra','Wrote 2 books');"
            ]
        },
        {
            "cell_type": "code",
            "execution_count": null,
            "metadata": {
                "azdata_cell_guid": "a9cdc712-83ee-4fd9-831b-eaca82b93d68",
                "language": "sql"
            },
            "outputs": [
                {
                    "data": {
                        "text/html": [
                            "Commands completed successfully."
                        ]
                    },
                    "metadata": {},
                    "output_type": "display_data"
                },
                {
                    "data": {
                        "text/html": [
                            "Total execution time: 00:00:00.003"
                        ]
                    },
                    "metadata": {},
                    "output_type": "display_data"
                }
            ],
            "source": [
                "CREATE TABLE Users (\n",
                "    userid INT PRIMARY KEY,\n",
                "    username VARCHAR(255),\n",
                "    password VARCHAR(255)\n",
                ");"
            ]
        },
        {
            "cell_type": "code",
            "execution_count": null,
            "metadata": {
                "azdata_cell_guid": "eedf8b36-a8a2-45ab-927d-471510fcdd0c",
                "language": "sql"
            },
            "outputs": [
                {
                    "data": {
                        "text/html": [
                            "(3 rows affected)"
                        ]
                    },
                    "metadata": {},
                    "output_type": "display_data"
                },
                {
                    "data": {
                        "text/html": [
                            "Total execution time: 00:00:00.005"
                        ]
                    },
                    "metadata": {},
                    "output_type": "display_data"
                }
            ],
            "source": [
                "INSERT  \n",
                "\n",
                "    INTO  \n",
                "\n",
                "        Users (userid,username,password) \n",
                "\n",
                "    VALUES \n",
                "\n",
                "        \n",
                "        (1,'Yogesh','yogesh@123'),\n",
                "        (2,'Parvesh','par@123'),\n",
                "        (3,'vedank','ved@123');"
            ]
        },
        {
            "cell_type": "code",
            "execution_count": null,
            "metadata": {
                "azdata_cell_guid": "f6505c9a-959e-4072-b887-3cc7285a7e9a",
                "language": "sql"
            },
            "outputs": [
                {
                    "data": {
                        "text/html": [
                            "Commands completed successfully."
                        ]
                    },
                    "metadata": {},
                    "output_type": "display_data"
                },
                {
                    "data": {
                        "text/html": [
                            "Total execution time: 00:00:00.006"
                        ]
                    },
                    "metadata": {},
                    "output_type": "display_data"
                }
            ],
            "source": [
                "CREATE TABLE Reviews (\n",
                "    reviewid INT ,\n",
                "    bookid VARCHAR(50) FOREIGN KEY (bookid) REFERENCES Books(bookid),\n",
                "    userid INT FOREIGN KEY (userid) REFERENCES Users(userid),\n",
                "    rating INT,\n",
                "    review_text TEXT\n",
                ");"
            ]
        },
        {
            "cell_type": "code",
            "execution_count": null,
            "metadata": {
                "azdata_cell_guid": "99c32ade-98cd-459a-9b3c-5c4d6769d0ea",
                "language": "sql"
            },
            "outputs": [
                {
                    "data": {
                        "text/html": [
                            "(8 rows affected)"
                        ]
                    },
                    "metadata": {},
                    "output_type": "display_data"
                },
                {
                    "data": {
                        "text/html": [
                            "Total execution time: 00:00:00.010"
                        ]
                    },
                    "metadata": {},
                    "output_type": "display_data"
                }
            ],
            "source": [
                "INSERT INTO  \n",
                "    REVIEWS(reviewid, bookid,userid, rating,review_text) \n",
                "VALUES \n",
                "    (1,'kane-and-abel',1,4,'Nice Book'),\n",
                "         \n",
                "    (2,'rashmirathi',2,3.5,'Good book'), \n",
                "\n",
                "    (3,'sons-of-fortune',3,4.5,'Thoughtfull'), \n",
                "\n",
                "    (4,'manas',1,4.7,'Good Book'), \n",
                "\n",
                "    (5,'summons',2,3.9,'Amazing'), \n",
                "\n",
                "    (6,'five-point-someone',3,3,'Great work'), \n",
                "\n",
                "    (7,'scion-of-ikshavaku',1,3.8,'Nice creativity'), \n",
                "\n",
                "    (8,'the-accursed-god',2,4.2,'Nice'); "
            ]
        },
        {
            "cell_type": "code",
            "execution_count": null,
            "metadata": {
                "azdata_cell_guid": "8c1a2a14-c852-42b7-b257-a7b21e003dfb",
                "language": "sql"
            },
            "outputs": [
                {
                    "data": {
                        "text/html": [
                            "(1 row affected)"
                        ]
                    },
                    "metadata": {},
                    "output_type": "display_data"
                },
                {
                    "data": {
                        "text/html": [
                            "Total execution time: 00:00:00.005"
                        ]
                    },
                    "metadata": {},
                    "output_type": "display_data"
                }
            ],
            "source": [
                "INSERT INTO  \n",
                "    REVIEWS(reviewid, bookid,userid, rating,review_text) \n",
                "VALUES \n",
                "    (1,'kane-and-abel',1,4,'Nice Book');"
            ]
        },
        {
            "cell_type": "code",
            "execution_count": null,
            "metadata": {
                "azdata_cell_guid": "53e2e744-68a5-48b4-8517-7210159a5c9d",
                "language": "sql"
            },
            "outputs": [
                {
                    "data": {
                        "text/html": [
                            "(7 rows affected)"
                        ]
                    },
                    "metadata": {},
                    "output_type": "display_data"
                },
                {
                    "data": {
                        "text/html": [
                            "Total execution time: 00:00:00.005"
                        ]
                    },
                    "metadata": {},
                    "output_type": "display_data"
                },
                {
                    "data": {
                        "application/vnd.dataresource+json": {
                            "data": [
                                {
                                    "authorid": "amish",
                                    "bio": "Wrote the Scion of ikshvaku",
                                    "name": "Amish"
                                },
                                {
                                    "authorid": "c_b",
                                    "bio": "Wrote many fictional stories",
                                    "name": "Chetan Bhagat"
                                },
                                {
                                    "authorid": "j_a",
                                    "bio": "Wrote 2 books present in database",
                                    "name": "Jeffrey Archer"
                                },
                                {
                                    "authorid": "j_g",
                                    "bio": "Wrote 1 book",
                                    "name": "John Grisham"
                                },
                                {
                                    "authorid": "jk",
                                    "bio": "Wrote 7 parts of Harry Potter",
                                    "name": "JK Rowlings"
                                },
                                {
                                    "authorid": "r_s_d",
                                    "bio": "Wrote 2 books recorded in database",
                                    "name": "Ramdhari Singh Dinkar"
                                },
                                {
                                    "authorid": "v_d_m",
                                    "bio": "Wrote 2 books",
                                    "name": "Vivek Dutta Mishra"
                                }
                            ],
                            "schema": {
                                "fields": [
                                    {
                                        "name": "authorid"
                                    },
                                    {
                                        "name": "name"
                                    },
                                    {
                                        "name": "bio"
                                    }
                                ]
                            }
                        },
                        "text/html": [
                            "<table>\n",
                            "<tr><th>authorid</th><th>name</th><th>bio</th></tr>\n",
                            "<tr><td>amish</td><td>Amish</td><td>Wrote the Scion of ikshvaku</td></tr>\n",
                            "<tr><td>c_b</td><td>Chetan Bhagat</td><td>Wrote many fictional stories</td></tr>\n",
                            "<tr><td>j_a</td><td>Jeffrey Archer</td><td>Wrote 2 books present in database</td></tr>\n",
                            "<tr><td>j_g</td><td>John Grisham</td><td>Wrote 1 book</td></tr>\n",
                            "<tr><td>jk</td><td>JK Rowlings</td><td>Wrote 7 parts of Harry Potter</td></tr>\n",
                            "<tr><td>r_s_d</td><td>Ramdhari Singh Dinkar</td><td>Wrote 2 books recorded in database</td></tr>\n",
                            "<tr><td>v_d_m</td><td>Vivek Dutta Mishra</td><td>Wrote 2 books</td></tr>\n",
                            "</table>"
                        ]
                    },
                    "execution_count": 92,
                    "metadata": {},
                    "output_type": "execute_result"
                }
            ],
            "source": [
                "SELECT * from Authors;"
            ]
        },
        {
            "cell_type": "code",
            "execution_count": null,
            "metadata": {
                "azdata_cell_guid": "70836a7e-02c8-42ce-810a-b64e61a4b264",
                "language": "sql"
            },
            "outputs": [
                {
                    "data": {
                        "text/html": [
                            "(3 rows affected)"
                        ]
                    },
                    "metadata": {},
                    "output_type": "display_data"
                },
                {
                    "data": {
                        "text/html": [
                            "Total execution time: 00:00:00.004"
                        ]
                    },
                    "metadata": {},
                    "output_type": "display_data"
                },
                {
                    "data": {
                        "application/vnd.dataresource+json": {
                            "data": [
                                {
                                    "password": "yassu@123",
                                    "userid": "1",
                                    "username": "Yasaswini"
                                },
                                {
                                    "password": "rama@123",
                                    "userid": "2",
                                    "username": "Rama"
                                },
                                {
                                    "password": "aku@123",
                                    "userid": "3",
                                    "username": "Akanksha"
                                }
                            ],
                            "schema": {
                                "fields": [
                                    {
                                        "name": "userid"
                                    },
                                    {
                                        "name": "username"
                                    },
                                    {
                                        "name": "password"
                                    }
                                ]
                            }
                        },
                        "text/html": [
                            "<table>\n",
                            "<tr><th>userid</th><th>username</th><th>password</th></tr>\n",
                            "<tr><td>1</td><td>Yasaswini</td><td>yassu@123</td></tr>\n",
                            "<tr><td>2</td><td>Rama</td><td>rama@123</td></tr>\n",
                            "<tr><td>3</td><td>Akanksha</td><td>aku@123</td></tr>\n",
                            "</table>"
                        ]
                    },
                    "execution_count": 93,
                    "metadata": {},
                    "output_type": "execute_result"
                }
            ],
            "source": [
                "select * from Users;"
            ]
        },
        {
            "cell_type": "code",
            "execution_count": null,
            "metadata": {
                "azdata_cell_guid": "e749d19c-0f28-4bcd-84f0-e66c1f38562f",
                "language": "sql"
            },
            "outputs": [
                {
                    "data": {
                        "text/html": [
                            "(8 rows affected)"
                        ]
                    },
                    "metadata": {},
                    "output_type": "display_data"
                },
                {
                    "data": {
                        "text/html": [
                            "Total execution time: 00:00:00.007"
                        ]
                    },
                    "metadata": {},
                    "output_type": "display_data"
                },
                {
                    "data": {
                        "application/vnd.dataresource+json": {
                            "data": [
                                {
                                    "authorid": "r_s_d",
                                    "bookid": "five-point-someone",
                                    "details": "A book by Ramdhari sing dinkar",
                                    "title": "Five Point SomeOne"
                                },
                                {
                                    "authorid": "j_a",
                                    "bookid": "kane-and-abel",
                                    "details": "A book by jeffrey archer",
                                    "title": "Kane and Abel"
                                },
                                {
                                    "authorid": "v_d_m",
                                    "bookid": "manas",
                                    "details": "A book by Vivek dutta mishra",
                                    "title": "Manas"
                                },
                                {
                                    "authorid": "r_s_d",
                                    "bookid": "rashmirathi",
                                    "details": "A book by Ramdhari sing dinkar",
                                    "title": "Rashmirathi"
                                },
                                {
                                    "authorid": "amish",
                                    "bookid": "scion-of-ikshavaku",
                                    "details": "A book by Amish",
                                    "title": "The Scion of Ikshavaku"
                                },
                                {
                                    "authorid": "j_a",
                                    "bookid": "sons-of-fortune",
                                    "details": "A book by jeffrey archer",
                                    "title": "Sons of Fortune"
                                },
                                {
                                    "authorid": "j_g",
                                    "bookid": "summons",
                                    "details": "A book by John Grisham",
                                    "title": "Summons"
                                },
                                {
                                    "authorid": "v_d_m",
                                    "bookid": "the-accursed-god",
                                    "details": "A book by Vivek dutta mishra",
                                    "title": "The Accursed God"
                                }
                            ],
                            "schema": {
                                "fields": [
                                    {
                                        "name": "bookid"
                                    },
                                    {
                                        "name": "title"
                                    },
                                    {
                                        "name": "details"
                                    },
                                    {
                                        "name": "authorid"
                                    }
                                ]
                            }
                        },
                        "text/html": [
                            "<table>\n",
                            "<tr><th>bookid</th><th>title</th><th>details</th><th>authorid</th></tr>\n",
                            "<tr><td>five-point-someone</td><td>Five Point SomeOne</td><td>A book by Ramdhari sing dinkar</td><td>r_s_d</td></tr>\n",
                            "<tr><td>kane-and-abel</td><td>Kane and Abel</td><td>A book by jeffrey archer</td><td>j_a</td></tr>\n",
                            "<tr><td>manas</td><td>Manas</td><td>A book by Vivek dutta mishra</td><td>v_d_m</td></tr>\n",
                            "<tr><td>rashmirathi</td><td>Rashmirathi</td><td>A book by Ramdhari sing dinkar</td><td>r_s_d</td></tr>\n",
                            "<tr><td>scion-of-ikshavaku</td><td>The Scion of Ikshavaku</td><td>A book by Amish</td><td>amish</td></tr>\n",
                            "<tr><td>sons-of-fortune</td><td>Sons of Fortune</td><td>A book by jeffrey archer</td><td>j_a</td></tr>\n",
                            "<tr><td>summons</td><td>Summons</td><td>A book by John Grisham</td><td>j_g</td></tr>\n",
                            "<tr><td>the-accursed-god</td><td>The Accursed God</td><td>A book by Vivek dutta mishra</td><td>v_d_m</td></tr>\n",
                            "</table>"
                        ]
                    },
                    "execution_count": 94,
                    "metadata": {},
                    "output_type": "execute_result"
                }
            ],
            "source": [
                "SELECT * FROM Books;"
            ]
        },
        {
            "cell_type": "code",
            "execution_count": null,
            "metadata": {
                "azdata_cell_guid": "18188f8f-b964-4221-b484-c03a69f6fdf4",
                "language": "sql"
            },
            "outputs": [
                {
                    "data": {
                        "text/html": [
                            "(8 rows affected)"
                        ]
                    },
                    "metadata": {},
                    "output_type": "display_data"
                },
                {
                    "data": {
                        "text/html": [
                            "Total execution time: 00:00:00.004"
                        ]
                    },
                    "metadata": {},
                    "output_type": "display_data"
                },
                {
                    "data": {
                        "application/vnd.dataresource+json": {
                            "data": [
                                {
                                    "bookid": "kane-and-abel",
                                    "rating": "4",
                                    "review_text": "Nice Book",
                                    "reviewid": "1",
                                    "userid": "1"
                                },
                                {
                                    "bookid": "rashmirathi",
                                    "rating": "3",
                                    "review_text": "Good book",
                                    "reviewid": "2",
                                    "userid": "2"
                                },
                                {
                                    "bookid": "sons-of-fortune",
                                    "rating": "4",
                                    "review_text": "Thoughtfull",
                                    "reviewid": "3",
                                    "userid": "3"
                                },
                                {
                                    "bookid": "manas",
                                    "rating": "4",
                                    "review_text": "Good Book",
                                    "reviewid": "4",
                                    "userid": "1"
                                },
                                {
                                    "bookid": "summons",
                                    "rating": "3",
                                    "review_text": "Amazing",
                                    "reviewid": "5",
                                    "userid": "2"
                                },
                                {
                                    "bookid": "five-point-someone",
                                    "rating": "3",
                                    "review_text": "Great work",
                                    "reviewid": "6",
                                    "userid": "3"
                                },
                                {
                                    "bookid": "scion-of-ikshavaku",
                                    "rating": "3",
                                    "review_text": "Nice creativity",
                                    "reviewid": "7",
                                    "userid": "1"
                                },
                                {
                                    "bookid": "the-accursed-god",
                                    "rating": "4",
                                    "review_text": "Nice",
                                    "reviewid": "8",
                                    "userid": "2"
                                }
                            ],
                            "schema": {
                                "fields": [
                                    {
                                        "name": "reviewid"
                                    },
                                    {
                                        "name": "bookid"
                                    },
                                    {
                                        "name": "userid"
                                    },
                                    {
                                        "name": "rating"
                                    },
                                    {
                                        "name": "review_text"
                                    }
                                ]
                            }
                        },
                        "text/html": [
                            "<table>\n",
                            "<tr><th>reviewid</th><th>bookid</th><th>userid</th><th>rating</th><th>review_text</th></tr>\n",
                            "<tr><td>1</td><td>kane-and-abel</td><td>1</td><td>4</td><td>Nice Book</td></tr>\n",
                            "<tr><td>2</td><td>rashmirathi</td><td>2</td><td>3</td><td>Good book</td></tr>\n",
                            "<tr><td>3</td><td>sons-of-fortune</td><td>3</td><td>4</td><td>Thoughtfull</td></tr>\n",
                            "<tr><td>4</td><td>manas</td><td>1</td><td>4</td><td>Good Book</td></tr>\n",
                            "<tr><td>5</td><td>summons</td><td>2</td><td>3</td><td>Amazing</td></tr>\n",
                            "<tr><td>6</td><td>five-point-someone</td><td>3</td><td>3</td><td>Great work</td></tr>\n",
                            "<tr><td>7</td><td>scion-of-ikshavaku</td><td>1</td><td>3</td><td>Nice creativity</td></tr>\n",
                            "<tr><td>8</td><td>the-accursed-god</td><td>2</td><td>4</td><td>Nice</td></tr>\n",
                            "</table>"
                        ]
                    },
                    "execution_count": 95,
                    "metadata": {},
                    "output_type": "execute_result"
                }
            ],
            "source": [
                "SELECT * FROM Reviews;"
            ]
        },
        {
            "cell_type": "code",
            "execution_count": null,
            "metadata": {
                "azdata_cell_guid": "8b7c9e3a-2243-4854-b1db-a894f3c41ae2",
                "language": "sql"
            },
            "outputs": [
                {
                    "data": {
                        "text/html": [
                            "(1 row affected)"
                        ]
                    },
                    "metadata": {},
                    "output_type": "display_data"
                },
                {
                    "data": {
                        "text/html": [
                            "Total execution time: 00:00:00.035"
                        ]
                    },
                    "metadata": {},
                    "output_type": "display_data"
                },
                {
                    "data": {
                        "application/vnd.dataresource+json": {
                            "data": [
                                {
                                    "rating": "3",
                                    "review_text": "Nice creativity",
                                    "title": "The Scion of Ikshavaku"
                                }
                            ],
                            "schema": {
                                "fields": [
                                    {
                                        "name": "title"
                                    },
                                    {
                                        "name": "rating"
                                    },
                                    {
                                        "name": "review_text"
                                    }
                                ]
                            }
                        },
                        "text/html": [
                            "<table>\n",
                            "<tr><th>title</th><th>rating</th><th>review_text</th></tr>\n",
                            "<tr><td>The Scion of Ikshavaku</td><td>3</td><td>Nice creativity</td></tr>\n",
                            "</table>"
                        ]
                    },
                    "execution_count": 97,
                    "metadata": {},
                    "output_type": "execute_result"
                }
            ],
            "source": [
                "SELECT B.title, R.rating, R.review_text\n",
                "FROM Reviews R\n",
                "JOIN Books B ON R.bookid = B.bookid\n",
                "WHERE B.authorid = 'amish';"
            ]
        },
        {
            "cell_type": "code",
            "execution_count": null,
            "metadata": {
                "azdata_cell_guid": "09c57548-1e68-4b7c-bd7b-a4570292592c",
                "language": "sql"
            },
            "outputs": [
                {
                    "data": {
                        "text/html": [
                            "Commands completed successfully."
                        ]
                    },
                    "metadata": {},
                    "output_type": "display_data"
                },
                {
                    "data": {
                        "text/html": [
                            "Total execution time: 00:00:00.004"
                        ]
                    },
                    "metadata": {},
                    "output_type": "display_data"
                }
            ],
            "source": [
                "DROP TABLE Books;"
            ]
        },
        {
            "cell_type": "code",
            "execution_count": null,
            "metadata": {
                "azdata_cell_guid": "831e5b93-a67b-402c-85a5-a576be52a750",
                "language": "sql"
            },
            "outputs": [
                {
                    "data": {
                        "text/html": [
                            "Commands completed successfully."
                        ]
                    },
                    "metadata": {},
                    "output_type": "display_data"
                },
                {
                    "data": {
                        "text/html": [
                            "Total execution time: 00:00:00.005"
                        ]
                    },
                    "metadata": {},
                    "output_type": "display_data"
                }
            ],
            "source": [
                "DROP TABLE Authors;"
            ]
        },
        {
            "cell_type": "code",
            "execution_count": null,
            "metadata": {
                "azdata_cell_guid": "4e1b4c67-508e-4236-8f90-82f769052c34",
                "language": "sql"
            },
            "outputs": [
                {
                    "data": {
                        "text/html": [
                            "Commands completed successfully."
                        ]
                    },
                    "metadata": {},
                    "output_type": "display_data"
                },
                {
                    "data": {
                        "text/html": [
                            "Total execution time: 00:00:00.004"
                        ]
                    },
                    "metadata": {},
                    "output_type": "display_data"
                }
            ],
            "source": [
                "DROP TABLE Users;"
            ]
        },
        {
            "cell_type": "code",
            "execution_count": null,
            "metadata": {
                "azdata_cell_guid": "cfe62ef4-78ae-4f19-9881-2626efc4c035",
                "language": "sql"
            },
            "outputs": [
                {
                    "data": {
                        "text/html": [
                            "Commands completed successfully."
                        ]
                    },
                    "metadata": {},
                    "output_type": "display_data"
                },
                {
                    "data": {
                        "text/html": [
                            "Total execution time: 00:00:00.008"
                        ]
                    },
                    "metadata": {},
                    "output_type": "display_data"
                }
            ],
            "source": [
                "DROP TABLE Reviews;"
            ]
        },
        {
            "cell_type": "code",
            "execution_count": null,
            "metadata": {
                "azdata_cell_guid": "6fbaacb0-a312-49cf-80f0-cb62db03ad25",
                "language": "sql"
            },
            "outputs": [
                {
                    "data": {
                        "text/html": [
                            "(1 row affected)"
                        ]
                    },
                    "metadata": {},
                    "output_type": "display_data"
                },
                {
                    "data": {
                        "text/html": [
                            "Total execution time: 00:00:00.039"
                        ]
                    },
                    "metadata": {},
                    "output_type": "display_data"
                },
                {
                    "data": {
                        "application/vnd.dataresource+json": {
                            "data": [
                                {
                                    "details": "A book by jeffrey archer",
                                    "rating": "4",
                                    "review_text": "Nice Book",
                                    "title": "Kane and Abel"
                                }
                            ],
                            "schema": {
                                "fields": [
                                    {
                                        "name": "title"
                                    },
                                    {
                                        "name": "details"
                                    },
                                    {
                                        "name": "rating"
                                    },
                                    {
                                        "name": "review_text"
                                    }
                                ]
                            }
                        },
                        "text/html": [
                            "<table>\n",
                            "<tr><th>title</th><th>details</th><th>rating</th><th>review_text</th></tr>\n",
                            "<tr><td>Kane and Abel</td><td>A book by jeffrey archer</td><td>4</td><td>Nice Book</td></tr>\n",
                            "</table>"
                        ]
                    },
                    "execution_count": 99,
                    "metadata": {},
                    "output_type": "execute_result"
                }
            ],
            "source": [
                "SELECT B.title,B.details, R.rating, R.review_text \n",
                "                      FROM Reviews R\n",
                "                      JOIN Books B ON R.bookid = B.bookid\n",
                "                      WHERE R.reviewid = 1;"
            ]
        },
        {
            "cell_type": "code",
            "execution_count": null,
            "metadata": {
                "azdata_cell_guid": "3bfbef0b-aa4d-4da5-bfd9-3e1ab005157a",
                "language": "sql"
            },
            "outputs": [
                {
                    "data": {
                        "text/html": [
                            "(3 rows affected)"
                        ]
                    },
                    "metadata": {},
                    "output_type": "display_data"
                },
                {
                    "data": {
                        "text/html": [
                            "Total execution time: 00:00:00.005"
                        ]
                    },
                    "metadata": {},
                    "output_type": "display_data"
                },
                {
                    "data": {
                        "application/vnd.dataresource+json": {
                            "data": [
                                {
                                    "rating": "4",
                                    "review_text": "Nice Book",
                                    "title": "Kane and Abel",
                                    "userid": "1"
                                },
                                {
                                    "rating": "4",
                                    "review_text": "Good Book",
                                    "title": "Manas",
                                    "userid": "1"
                                },
                                {
                                    "rating": "3",
                                    "review_text": "Nice creativity",
                                    "title": "The Scion of Ikshavaku",
                                    "userid": "1"
                                }
                            ],
                            "schema": {
                                "fields": [
                                    {
                                        "name": "userid"
                                    },
                                    {
                                        "name": "title"
                                    },
                                    {
                                        "name": "rating"
                                    },
                                    {
                                        "name": "review_text"
                                    }
                                ]
                            }
                        },
                        "text/html": [
                            "<table>\n",
                            "<tr><th>userid</th><th>title</th><th>rating</th><th>review_text</th></tr>\n",
                            "<tr><td>1</td><td>Kane and Abel</td><td>4</td><td>Nice Book</td></tr>\n",
                            "<tr><td>1</td><td>Manas</td><td>4</td><td>Good Book</td></tr>\n",
                            "<tr><td>1</td><td>The Scion of Ikshavaku</td><td>3</td><td>Nice creativity</td></tr>\n",
                            "</table>"
                        ]
                    },
                    "execution_count": 102,
                    "metadata": {},
                    "output_type": "execute_result"
                }
            ],
            "source": [
                "SELECT R.userid,B.title, R.rating, R.review_text\n",
                "FROM Reviews R\n",
                "JOIN Books B ON R.bookid = B.bookid\n",
                "WHERE R.userid = 1;"
            ]
        }
    ],
    "metadata": {
        "kernelspec": {
            "display_name": "SQL",
            "language": "sql",
            "name": "SQL"
        },
        "language_info": {
            "name": "sql",
            "version": ""
        }
    },
    "nbformat": 4,
    "nbformat_minor": 2
}
