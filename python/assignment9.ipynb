{
 "cells": [
  {
   "cell_type": "code",
   "execution_count": 5,
   "metadata": {},
   "outputs": [
    {
     "ename": "TypeError",
     "evalue": "Node() takes no arguments",
     "output_type": "error",
     "traceback": [
      "\u001b[1;31m---------------------------------------------------------------------------\u001b[0m",
      "\u001b[1;31mTypeError\u001b[0m                                 Traceback (most recent call last)",
      "\u001b[1;32mc:\\Users\\sainiyo\\OneDrive - Ecolab\\Desktop\\python\\assignment9.ipynb Cell 1\u001b[0m line \u001b[0;36m4\n\u001b[0;32m     <a href='vscode-notebook-cell:/c%3A/Users/sainiyo/OneDrive%20-%20Ecolab/Desktop/python/assignment9.ipynb#W0sZmlsZQ%3D%3D?line=37'>38</a>\u001b[0m         \u001b[39mself\u001b[39m\u001b[39m.\u001b[39mhead \u001b[39m=\u001b[39m \u001b[39mNone\u001b[39;00m\n\u001b[0;32m     <a href='vscode-notebook-cell:/c%3A/Users/sainiyo/OneDrive%20-%20Ecolab/Desktop/python/assignment9.ipynb#W0sZmlsZQ%3D%3D?line=40'>41</a>\u001b[0m linkedlist \u001b[39m=\u001b[39m LinkedList()\n\u001b[1;32m---> <a href='vscode-notebook-cell:/c%3A/Users/sainiyo/OneDrive%20-%20Ecolab/Desktop/python/assignment9.ipynb#W0sZmlsZQ%3D%3D?line=42'>43</a>\u001b[0m linkedlist\u001b[39m.\u001b[39;49mappend(\u001b[39m10\u001b[39;49m)\n\u001b[0;32m     <a href='vscode-notebook-cell:/c%3A/Users/sainiyo/OneDrive%20-%20Ecolab/Desktop/python/assignment9.ipynb#W0sZmlsZQ%3D%3D?line=43'>44</a>\u001b[0m linkedlist\u001b[39m.\u001b[39mappend(\u001b[39m20\u001b[39m)\n\u001b[0;32m     <a href='vscode-notebook-cell:/c%3A/Users/sainiyo/OneDrive%20-%20Ecolab/Desktop/python/assignment9.ipynb#W0sZmlsZQ%3D%3D?line=44'>45</a>\u001b[0m linkedlist\u001b[39m.\u001b[39mappend(\u001b[39m30\u001b[39m)\n",
      "\u001b[1;32mc:\\Users\\sainiyo\\OneDrive - Ecolab\\Desktop\\python\\assignment9.ipynb Cell 1\u001b[0m line \u001b[0;36m1\n\u001b[0;32m     <a href='vscode-notebook-cell:/c%3A/Users/sainiyo/OneDrive%20-%20Ecolab/Desktop/python/assignment9.ipynb#W0sZmlsZQ%3D%3D?line=9'>10</a>\u001b[0m \u001b[39mdef\u001b[39;00m \u001b[39mappend\u001b[39m(\u001b[39mself\u001b[39m, data):\n\u001b[1;32m---> <a href='vscode-notebook-cell:/c%3A/Users/sainiyo/OneDrive%20-%20Ecolab/Desktop/python/assignment9.ipynb#W0sZmlsZQ%3D%3D?line=10'>11</a>\u001b[0m     new_node \u001b[39m=\u001b[39m Node(data)\n\u001b[0;32m     <a href='vscode-notebook-cell:/c%3A/Users/sainiyo/OneDrive%20-%20Ecolab/Desktop/python/assignment9.ipynb#W0sZmlsZQ%3D%3D?line=11'>12</a>\u001b[0m     \u001b[39mif\u001b[39;00m \u001b[39mnot\u001b[39;00m \u001b[39mself\u001b[39m\u001b[39m.\u001b[39mhead:\n\u001b[0;32m     <a href='vscode-notebook-cell:/c%3A/Users/sainiyo/OneDrive%20-%20Ecolab/Desktop/python/assignment9.ipynb#W0sZmlsZQ%3D%3D?line=12'>13</a>\u001b[0m         \u001b[39mself\u001b[39m\u001b[39m.\u001b[39mhead \u001b[39m=\u001b[39m new_node\n",
      "\u001b[1;31mTypeError\u001b[0m: Node() takes no arguments"
     ]
    }
   ],
   "source": [
    "class Node:\n",
    "    def _init_(self, data):\n",
    "        self.data = data\n",
    "        self.next = None\n",
    "\n",
    "class LinkedList:\n",
    "    def _init_(self):\n",
    "        self.head = None\n",
    "\n",
    "    def append(self, data):\n",
    "        new_node = Node(data)\n",
    "        if not self.head:\n",
    "            self.head = new_node\n",
    "        else:\n",
    "            current = self.head\n",
    "            while current.next:\n",
    "                current = current.next\n",
    "            current.next = new_node\n",
    "\n",
    "    def contains(self, value):\n",
    "        current = self.head\n",
    "        while current:\n",
    "            if current.data == value:\n",
    "                return True\n",
    "            current = current.next\n",
    "        return False\n",
    "\n",
    "    def count(self, value):\n",
    "        count = 0\n",
    "        current = self.head\n",
    "        while current:\n",
    "            if current.data == value:\n",
    "                count += 1\n",
    "            current = current.next\n",
    "        return count\n",
    "\n",
    "    def clear(self):\n",
    "        self.head = None\n",
    "\n",
    "\n",
    "linkedlist = LinkedList()\n",
    "\n",
    "linkedlist.append(10)\n",
    "linkedlist.append(20)\n",
    "linkedlist.append(30)\n",
    "\n",
    "if linkedlist.contains(20):\n",
    "    print(\"20 is in the linked list\")\n",
    "else:\n",
    "    print(\"20 is not in the linked list\")\n",
    "\n",
    "count_10 = linkedlist.count(10)\n",
    "print(f\"The value 10 appears {count_10} times in the linked list\")\n",
    "\n",
    "linkedlist.clear()"
   ]
  },
  {
   "cell_type": "code",
   "execution_count": null,
   "metadata": {},
   "outputs": [],
   "source": []
  }
 ],
 "metadata": {
  "kernelspec": {
   "display_name": "Python 3",
   "language": "python",
   "name": "python3"
  },
  "language_info": {
   "codemirror_mode": {
    "name": "ipython",
    "version": 3
   },
   "file_extension": ".py",
   "mimetype": "text/x-python",
   "name": "python",
   "nbconvert_exporter": "python",
   "pygments_lexer": "ipython3",
   "version": "3.11.5"
  },
  "orig_nbformat": 4
 },
 "nbformat": 4,
 "nbformat_minor": 2
}
